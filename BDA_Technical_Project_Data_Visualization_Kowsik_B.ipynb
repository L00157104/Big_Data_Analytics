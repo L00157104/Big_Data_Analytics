{
  "nbformat": 4,
  "nbformat_minor": 0,
  "metadata": {
    "colab": {
      "name": "BDA_Technical_Project_Data_Visualization_Kowsik_B.ipynb",
      "provenance": [],
      "collapsed_sections": [],
      "toc_visible": true
    },
    "kernelspec": {
      "name": "python3",
      "display_name": "Python 3"
    }
  },
  "cells": [
    {
      "cell_type": "markdown",
      "metadata": {
        "id": "fiOdFYYhDgio"
      },
      "source": [
        "# This is to visualize the Wallmart Sells Data\r\n",
        "\r\n",
        "This lab aims to utilize with Pandas libraries for Big Data Analytics Technical Project. \r\n",
        "\r\n",
        "The lab primarily focuses to \r\n",
        "i) data analysis\r\n",
        "ii) preparing datasets to analyze, plot, and feed to machine learning classifiers.\r\n",
        "\r\n",
        "This lab requires to analyze three datasets under the given sections.\r\n",
        "\r\n",
        "Used DataSets are:\r\n",
        "1. features.csv\r\n",
        "2. stores.csv\r\n",
        "3. train.csv"
      ]
    },
    {
      "cell_type": "code",
      "metadata": {
        "id": "jxzBh-vYewOL"
      },
      "source": [
        "# Importing standrad libaries \r\n",
        "\r\n",
        "import numpy as np \r\n",
        "import pandas as pd\r\n",
        "import json\r\n",
        "import matplotlib\r\n",
        "import matplotlib.pyplot as plt\r\n",
        "from matplotlib import cm\r\n",
        "from datetime import datetime\r\n",
        "import glob\r\n",
        "import seaborn as sns\r\n",
        "import re\r\n",
        "import os\r\n",
        "import datetime as dt"
      ],
      "execution_count": 38,
      "outputs": []
    },
    {
      "cell_type": "code",
      "metadata": {
        "id": "OQfC00ZGwH3b"
      },
      "source": [
        "%%capture\r\n",
        "!apt install libkrb5-dev\r\n",
        "!wget https://www-us.apache.org/dist/spark/spark-3.0.2/spark-3.0.2-bin-hadoop3.2.tgz\r\n",
        "!tar xf spark-3.0.2-bin-hadoop3.2.tgz\r\n",
        "!pip install findspark\r\n",
        "!pip install sparkmagic\r\n",
        "!pip install pyspark\r\n",
        "!pip install pyspark --user"
      ],
      "execution_count": 2,
      "outputs": []
    },
    {
      "cell_type": "code",
      "metadata": {
        "colab": {
          "base_uri": "https://localhost:8080/"
        },
        "id": "PQUrgOpnw8Ub",
        "outputId": "6f8c26ba-c2d1-4ca9-bfb8-7d8405a474c4"
      },
      "source": [
        "!apt install libkrb5-dev"
      ],
      "execution_count": 3,
      "outputs": [
        {
          "output_type": "stream",
          "text": [
            "Reading package lists... Done\n",
            "Building dependency tree       \n",
            "Reading state information... Done\n",
            "libkrb5-dev is already the newest version (1.16-2ubuntu0.2).\n",
            "0 upgraded, 0 newly installed, 0 to remove and 29 not upgraded.\n"
          ],
          "name": "stdout"
        }
      ]
    },
    {
      "cell_type": "code",
      "metadata": {
        "id": "AB-MkFWIxAP4"
      },
      "source": [
        "import os\r\n",
        "os.environ['SPARK_HOME'] = \"/content/spark-3.0.2-bin-hadoop3.2\"\r\n",
        "import pyspark\r\n",
        "from pyspark.sql import SQLContext\r\n",
        "from pyspark.sql import SparkSession\r\n",
        "from pyspark.sql.types import *\r\n",
        "import pyspark.sql.functions as F\r\n",
        "from pyspark import SparkFiles\r\n",
        "from pyspark.sql.types import StringType, IntegerType, DoubleType, StructField, StructType, ArrayType, MapType"
      ],
      "execution_count": 4,
      "outputs": []
    },
    {
      "cell_type": "code",
      "metadata": {
        "id": "40IpdbT1x7zt"
      },
      "source": [
        "# Reading the Features dataset - features_df\r\n",
        "features_df = pd.read_csv('/content/features.csv') \r\n",
        "# Reading the Train dataset - train_df\r\n",
        "train_df = pd.read_csv('/content/train.csv')\r\n",
        "# Reading the Stores dataset - stores_df\r\n",
        "stores_df = pd.read_csv('/content/stores.csv')\r\n"
      ],
      "execution_count": 9,
      "outputs": []
    },
    {
      "cell_type": "code",
      "metadata": {
        "colab": {
          "base_uri": "https://localhost:8080/"
        },
        "id": "nsB_IScNH6d1",
        "outputId": "b0d3852f-dc25-4400-bdf3-1f66ee8df89b"
      },
      "source": [
        "# Checking for null values in the Data sets\r\n",
        "train_df.isnull().sum()\r\n",
        "features_df.isnull().sum()\r\n",
        "stores_df.isnull().sum()\r\n"
      ],
      "execution_count": 10,
      "outputs": [
        {
          "output_type": "execute_result",
          "data": {
            "text/plain": [
              "Store    0\n",
              "Type     0\n",
              "Size     0\n",
              "dtype: int64"
            ]
          },
          "metadata": {
            "tags": []
          },
          "execution_count": 10
        }
      ]
    },
    {
      "cell_type": "code",
      "metadata": {
        "colab": {
          "base_uri": "https://localhost:8080/",
          "height": 79
        },
        "id": "75N8JEZlIwgb",
        "outputId": "bf980e81-1a45-48a1-afa8-10e88f16dd8c"
      },
      "source": [
        "# dataset columns values for Train Data Frame\r\n",
        "pd.DataFrame(train_df.dtypes, columns=['Type']).T"
      ],
      "execution_count": 11,
      "outputs": [
        {
          "output_type": "execute_result",
          "data": {
            "text/html": [
              "<div>\n",
              "<style scoped>\n",
              "    .dataframe tbody tr th:only-of-type {\n",
              "        vertical-align: middle;\n",
              "    }\n",
              "\n",
              "    .dataframe tbody tr th {\n",
              "        vertical-align: top;\n",
              "    }\n",
              "\n",
              "    .dataframe thead th {\n",
              "        text-align: right;\n",
              "    }\n",
              "</style>\n",
              "<table border=\"1\" class=\"dataframe\">\n",
              "  <thead>\n",
              "    <tr style=\"text-align: right;\">\n",
              "      <th></th>\n",
              "      <th>Store</th>\n",
              "      <th>Dept</th>\n",
              "      <th>Date</th>\n",
              "      <th>Weekly_Sales</th>\n",
              "      <th>IsHoliday</th>\n",
              "    </tr>\n",
              "  </thead>\n",
              "  <tbody>\n",
              "    <tr>\n",
              "      <th>Type</th>\n",
              "      <td>int64</td>\n",
              "      <td>int64</td>\n",
              "      <td>object</td>\n",
              "      <td>float64</td>\n",
              "      <td>bool</td>\n",
              "    </tr>\n",
              "  </tbody>\n",
              "</table>\n",
              "</div>"
            ],
            "text/plain": [
              "      Store   Dept    Date Weekly_Sales IsHoliday\n",
              "Type  int64  int64  object      float64      bool"
            ]
          },
          "metadata": {
            "tags": []
          },
          "execution_count": 11
        }
      ]
    },
    {
      "cell_type": "code",
      "metadata": {
        "colab": {
          "base_uri": "https://localhost:8080/",
          "height": 99
        },
        "id": "bfRkbtaGIzPp",
        "outputId": "74c0280c-c8d1-439a-e979-742c5b5c0e07"
      },
      "source": [
        "# For Features Data Frame \r\n",
        "pd.DataFrame(features_df.dtypes, columns=['Type']).T"
      ],
      "execution_count": 12,
      "outputs": [
        {
          "output_type": "execute_result",
          "data": {
            "text/html": [
              "<div>\n",
              "<style scoped>\n",
              "    .dataframe tbody tr th:only-of-type {\n",
              "        vertical-align: middle;\n",
              "    }\n",
              "\n",
              "    .dataframe tbody tr th {\n",
              "        vertical-align: top;\n",
              "    }\n",
              "\n",
              "    .dataframe thead th {\n",
              "        text-align: right;\n",
              "    }\n",
              "</style>\n",
              "<table border=\"1\" class=\"dataframe\">\n",
              "  <thead>\n",
              "    <tr style=\"text-align: right;\">\n",
              "      <th></th>\n",
              "      <th>Store</th>\n",
              "      <th>Date</th>\n",
              "      <th>Temperature</th>\n",
              "      <th>Fuel_Price</th>\n",
              "      <th>MarkDown1</th>\n",
              "      <th>MarkDown2</th>\n",
              "      <th>MarkDown3</th>\n",
              "      <th>MarkDown4</th>\n",
              "      <th>MarkDown5</th>\n",
              "      <th>CPI</th>\n",
              "      <th>Unemployment</th>\n",
              "      <th>IsHoliday</th>\n",
              "    </tr>\n",
              "  </thead>\n",
              "  <tbody>\n",
              "    <tr>\n",
              "      <th>Type</th>\n",
              "      <td>int64</td>\n",
              "      <td>object</td>\n",
              "      <td>float64</td>\n",
              "      <td>float64</td>\n",
              "      <td>float64</td>\n",
              "      <td>float64</td>\n",
              "      <td>float64</td>\n",
              "      <td>float64</td>\n",
              "      <td>float64</td>\n",
              "      <td>float64</td>\n",
              "      <td>float64</td>\n",
              "      <td>bool</td>\n",
              "    </tr>\n",
              "  </tbody>\n",
              "</table>\n",
              "</div>"
            ],
            "text/plain": [
              "      Store    Date Temperature  ...      CPI Unemployment IsHoliday\n",
              "Type  int64  object     float64  ...  float64      float64      bool\n",
              "\n",
              "[1 rows x 12 columns]"
            ]
          },
          "metadata": {
            "tags": []
          },
          "execution_count": 12
        }
      ]
    },
    {
      "cell_type": "code",
      "metadata": {
        "colab": {
          "base_uri": "https://localhost:8080/",
          "height": 79
        },
        "id": "6bJyW1L4I1cs",
        "outputId": "11693b63-758a-4779-ff57-cc824d11910d"
      },
      "source": [
        "# For Stores Data Frame \r\n",
        "pd.DataFrame(stores_df.dtypes, columns=['Type']).T"
      ],
      "execution_count": 13,
      "outputs": [
        {
          "output_type": "execute_result",
          "data": {
            "text/html": [
              "<div>\n",
              "<style scoped>\n",
              "    .dataframe tbody tr th:only-of-type {\n",
              "        vertical-align: middle;\n",
              "    }\n",
              "\n",
              "    .dataframe tbody tr th {\n",
              "        vertical-align: top;\n",
              "    }\n",
              "\n",
              "    .dataframe thead th {\n",
              "        text-align: right;\n",
              "    }\n",
              "</style>\n",
              "<table border=\"1\" class=\"dataframe\">\n",
              "  <thead>\n",
              "    <tr style=\"text-align: right;\">\n",
              "      <th></th>\n",
              "      <th>Store</th>\n",
              "      <th>Type</th>\n",
              "      <th>Size</th>\n",
              "    </tr>\n",
              "  </thead>\n",
              "  <tbody>\n",
              "    <tr>\n",
              "      <th>Type</th>\n",
              "      <td>int64</td>\n",
              "      <td>object</td>\n",
              "      <td>int64</td>\n",
              "    </tr>\n",
              "  </tbody>\n",
              "</table>\n",
              "</div>"
            ],
            "text/plain": [
              "      Store    Type   Size\n",
              "Type  int64  object  int64"
            ]
          },
          "metadata": {
            "tags": []
          },
          "execution_count": 13
        }
      ]
    },
    {
      "cell_type": "markdown",
      "metadata": {
        "id": "_Nt3Wq-B8EL3"
      },
      "source": [
        "# Data Cleaning Activity on Spark Data Frame\r\n",
        "Drop duplicate rows\r\n",
        "\r\n",
        "Drop Null rows\r\n",
        "\r\n",
        "Instead Dropping rows that have values as 'NaN' or 'NA'\r\n",
        "will replace any empty cells with 0 instead.\r\n",
        "\r\n",
        "Drop columns those aren't neccessary for the rest of the lab.\r\n",
        "\r\n",
        "Rename Columns as necessary\r\n",
        "\r\n",
        "Save the result to final_walmart_df data frame"
      ]
    },
    {
      "cell_type": "code",
      "metadata": {
        "id": "V_hya1qy8KUE"
      },
      "source": [
        "# Drop duplicates from all 3 data frames\r\n",
        "\r\n",
        "train_df = train_df.dropna()\r\n",
        "features_df = features_df.dropna()\r\n",
        "stores_df = stores_df.dropna()\r\n"
      ],
      "execution_count": 16,
      "outputs": []
    },
    {
      "cell_type": "code",
      "metadata": {
        "colab": {
          "base_uri": "https://localhost:8080/",
          "height": 349
        },
        "id": "Y7jV14kvFWaF",
        "outputId": "124d0442-3e56-4fbf-bbdc-8ca7359490ba"
      },
      "source": [
        "%%time\r\n",
        "features_df.describe()"
      ],
      "execution_count": 17,
      "outputs": [
        {
          "output_type": "stream",
          "text": [
            "CPU times: user 23 ms, sys: 1.19 ms, total: 24.2 ms\n",
            "Wall time: 29.5 ms\n"
          ],
          "name": "stdout"
        },
        {
          "output_type": "execute_result",
          "data": {
            "text/html": [
              "<div>\n",
              "<style scoped>\n",
              "    .dataframe tbody tr th:only-of-type {\n",
              "        vertical-align: middle;\n",
              "    }\n",
              "\n",
              "    .dataframe tbody tr th {\n",
              "        vertical-align: top;\n",
              "    }\n",
              "\n",
              "    .dataframe thead th {\n",
              "        text-align: right;\n",
              "    }\n",
              "</style>\n",
              "<table border=\"1\" class=\"dataframe\">\n",
              "  <thead>\n",
              "    <tr style=\"text-align: right;\">\n",
              "      <th></th>\n",
              "      <th>Store</th>\n",
              "      <th>Temperature</th>\n",
              "      <th>Fuel_Price</th>\n",
              "      <th>MarkDown1</th>\n",
              "      <th>MarkDown2</th>\n",
              "      <th>MarkDown3</th>\n",
              "      <th>MarkDown4</th>\n",
              "      <th>MarkDown5</th>\n",
              "      <th>CPI</th>\n",
              "      <th>Unemployment</th>\n",
              "    </tr>\n",
              "  </thead>\n",
              "  <tbody>\n",
              "    <tr>\n",
              "      <th>count</th>\n",
              "      <td>2069.000000</td>\n",
              "      <td>2069.000000</td>\n",
              "      <td>2069.000000</td>\n",
              "      <td>2069.000000</td>\n",
              "      <td>2069.000000</td>\n",
              "      <td>2069.000000</td>\n",
              "      <td>2069.000000</td>\n",
              "      <td>2069.000000</td>\n",
              "      <td>2069.000000</td>\n",
              "      <td>2069.000000</td>\n",
              "    </tr>\n",
              "    <tr>\n",
              "      <th>mean</th>\n",
              "      <td>20.386660</td>\n",
              "      <td>52.516979</td>\n",
              "      <td>3.600298</td>\n",
              "      <td>9717.665297</td>\n",
              "      <td>4426.859778</td>\n",
              "      <td>2247.535911</td>\n",
              "      <td>4213.162687</td>\n",
              "      <td>5056.916061</td>\n",
              "      <td>175.587370</td>\n",
              "      <td>7.252611</td>\n",
              "    </tr>\n",
              "    <tr>\n",
              "      <th>std</th>\n",
              "      <td>12.076174</td>\n",
              "      <td>18.483053</td>\n",
              "      <td>0.279335</td>\n",
              "      <td>11377.636869</td>\n",
              "      <td>10154.658061</td>\n",
              "      <td>13305.985612</td>\n",
              "      <td>8359.765985</td>\n",
              "      <td>17807.168442</td>\n",
              "      <td>39.963914</td>\n",
              "      <td>1.684774</td>\n",
              "    </tr>\n",
              "    <tr>\n",
              "      <th>min</th>\n",
              "      <td>1.000000</td>\n",
              "      <td>-7.290000</td>\n",
              "      <td>2.872000</td>\n",
              "      <td>-563.900000</td>\n",
              "      <td>-265.760000</td>\n",
              "      <td>-179.260000</td>\n",
              "      <td>0.460000</td>\n",
              "      <td>-185.170000</td>\n",
              "      <td>129.816710</td>\n",
              "      <td>3.684000</td>\n",
              "    </tr>\n",
              "    <tr>\n",
              "      <th>25%</th>\n",
              "      <td>10.000000</td>\n",
              "      <td>38.100000</td>\n",
              "      <td>3.409000</td>\n",
              "      <td>3542.800000</td>\n",
              "      <td>67.990000</td>\n",
              "      <td>5.840000</td>\n",
              "      <td>404.050000</td>\n",
              "      <td>2014.840000</td>\n",
              "      <td>137.423897</td>\n",
              "      <td>6.162000</td>\n",
              "    </tr>\n",
              "    <tr>\n",
              "      <th>50%</th>\n",
              "      <td>20.000000</td>\n",
              "      <td>51.420000</td>\n",
              "      <td>3.610000</td>\n",
              "      <td>6397.720000</td>\n",
              "      <td>404.610000</td>\n",
              "      <td>34.100000</td>\n",
              "      <td>1401.230000</td>\n",
              "      <td>3470.490000</td>\n",
              "      <td>189.707605</td>\n",
              "      <td>7.191000</td>\n",
              "    </tr>\n",
              "    <tr>\n",
              "      <th>75%</th>\n",
              "      <td>29.000000</td>\n",
              "      <td>66.610000</td>\n",
              "      <td>3.796000</td>\n",
              "      <td>11265.620000</td>\n",
              "      <td>3900.310000</td>\n",
              "      <td>137.990000</td>\n",
              "      <td>3834.440000</td>\n",
              "      <td>5674.110000</td>\n",
              "      <td>219.970560</td>\n",
              "      <td>8.256000</td>\n",
              "    </tr>\n",
              "    <tr>\n",
              "      <th>max</th>\n",
              "      <td>45.000000</td>\n",
              "      <td>95.910000</td>\n",
              "      <td>4.301000</td>\n",
              "      <td>103184.980000</td>\n",
              "      <td>104519.540000</td>\n",
              "      <td>149483.310000</td>\n",
              "      <td>67474.850000</td>\n",
              "      <td>771448.100000</td>\n",
              "      <td>228.976456</td>\n",
              "      <td>12.890000</td>\n",
              "    </tr>\n",
              "  </tbody>\n",
              "</table>\n",
              "</div>"
            ],
            "text/plain": [
              "             Store  Temperature  ...          CPI  Unemployment\n",
              "count  2069.000000  2069.000000  ...  2069.000000   2069.000000\n",
              "mean     20.386660    52.516979  ...   175.587370      7.252611\n",
              "std      12.076174    18.483053  ...    39.963914      1.684774\n",
              "min       1.000000    -7.290000  ...   129.816710      3.684000\n",
              "25%      10.000000    38.100000  ...   137.423897      6.162000\n",
              "50%      20.000000    51.420000  ...   189.707605      7.191000\n",
              "75%      29.000000    66.610000  ...   219.970560      8.256000\n",
              "max      45.000000    95.910000  ...   228.976456     12.890000\n",
              "\n",
              "[8 rows x 10 columns]"
            ]
          },
          "metadata": {
            "tags": []
          },
          "execution_count": 17
        }
      ]
    },
    {
      "cell_type": "code",
      "metadata": {
        "colab": {
          "base_uri": "https://localhost:8080/",
          "height": 329
        },
        "id": "ZU0fToaJObGQ",
        "outputId": "9c2efb30-23b1-4b7e-d305-3742fa0a8722"
      },
      "source": [
        "%%time\r\n",
        "train_df.describe()"
      ],
      "execution_count": 18,
      "outputs": [
        {
          "output_type": "stream",
          "text": [
            "CPU times: user 45 ms, sys: 4.66 ms, total: 49.7 ms\n",
            "Wall time: 53.7 ms\n"
          ],
          "name": "stdout"
        },
        {
          "output_type": "execute_result",
          "data": {
            "text/html": [
              "<div>\n",
              "<style scoped>\n",
              "    .dataframe tbody tr th:only-of-type {\n",
              "        vertical-align: middle;\n",
              "    }\n",
              "\n",
              "    .dataframe tbody tr th {\n",
              "        vertical-align: top;\n",
              "    }\n",
              "\n",
              "    .dataframe thead th {\n",
              "        text-align: right;\n",
              "    }\n",
              "</style>\n",
              "<table border=\"1\" class=\"dataframe\">\n",
              "  <thead>\n",
              "    <tr style=\"text-align: right;\">\n",
              "      <th></th>\n",
              "      <th>Store</th>\n",
              "      <th>Dept</th>\n",
              "      <th>Weekly_Sales</th>\n",
              "    </tr>\n",
              "  </thead>\n",
              "  <tbody>\n",
              "    <tr>\n",
              "      <th>count</th>\n",
              "      <td>421570.000000</td>\n",
              "      <td>421570.000000</td>\n",
              "      <td>421570.000000</td>\n",
              "    </tr>\n",
              "    <tr>\n",
              "      <th>mean</th>\n",
              "      <td>22.200546</td>\n",
              "      <td>44.260317</td>\n",
              "      <td>15981.258123</td>\n",
              "    </tr>\n",
              "    <tr>\n",
              "      <th>std</th>\n",
              "      <td>12.785297</td>\n",
              "      <td>30.492054</td>\n",
              "      <td>22711.183519</td>\n",
              "    </tr>\n",
              "    <tr>\n",
              "      <th>min</th>\n",
              "      <td>1.000000</td>\n",
              "      <td>1.000000</td>\n",
              "      <td>-4988.940000</td>\n",
              "    </tr>\n",
              "    <tr>\n",
              "      <th>25%</th>\n",
              "      <td>11.000000</td>\n",
              "      <td>18.000000</td>\n",
              "      <td>2079.650000</td>\n",
              "    </tr>\n",
              "    <tr>\n",
              "      <th>50%</th>\n",
              "      <td>22.000000</td>\n",
              "      <td>37.000000</td>\n",
              "      <td>7612.030000</td>\n",
              "    </tr>\n",
              "    <tr>\n",
              "      <th>75%</th>\n",
              "      <td>33.000000</td>\n",
              "      <td>74.000000</td>\n",
              "      <td>20205.852500</td>\n",
              "    </tr>\n",
              "    <tr>\n",
              "      <th>max</th>\n",
              "      <td>45.000000</td>\n",
              "      <td>99.000000</td>\n",
              "      <td>693099.360000</td>\n",
              "    </tr>\n",
              "  </tbody>\n",
              "</table>\n",
              "</div>"
            ],
            "text/plain": [
              "               Store           Dept   Weekly_Sales\n",
              "count  421570.000000  421570.000000  421570.000000\n",
              "mean       22.200546      44.260317   15981.258123\n",
              "std        12.785297      30.492054   22711.183519\n",
              "min         1.000000       1.000000   -4988.940000\n",
              "25%        11.000000      18.000000    2079.650000\n",
              "50%        22.000000      37.000000    7612.030000\n",
              "75%        33.000000      74.000000   20205.852500\n",
              "max        45.000000      99.000000  693099.360000"
            ]
          },
          "metadata": {
            "tags": []
          },
          "execution_count": 18
        }
      ]
    },
    {
      "cell_type": "code",
      "metadata": {
        "colab": {
          "base_uri": "https://localhost:8080/",
          "height": 329
        },
        "id": "LyPrlv8wOh_J",
        "outputId": "0973991f-278c-4b3e-e641-a40964373e15"
      },
      "source": [
        "%%time\r\n",
        "stores_df.describe()"
      ],
      "execution_count": 19,
      "outputs": [
        {
          "output_type": "stream",
          "text": [
            "CPU times: user 9.14 ms, sys: 0 ns, total: 9.14 ms\n",
            "Wall time: 13.9 ms\n"
          ],
          "name": "stdout"
        },
        {
          "output_type": "execute_result",
          "data": {
            "text/html": [
              "<div>\n",
              "<style scoped>\n",
              "    .dataframe tbody tr th:only-of-type {\n",
              "        vertical-align: middle;\n",
              "    }\n",
              "\n",
              "    .dataframe tbody tr th {\n",
              "        vertical-align: top;\n",
              "    }\n",
              "\n",
              "    .dataframe thead th {\n",
              "        text-align: right;\n",
              "    }\n",
              "</style>\n",
              "<table border=\"1\" class=\"dataframe\">\n",
              "  <thead>\n",
              "    <tr style=\"text-align: right;\">\n",
              "      <th></th>\n",
              "      <th>Store</th>\n",
              "      <th>Size</th>\n",
              "    </tr>\n",
              "  </thead>\n",
              "  <tbody>\n",
              "    <tr>\n",
              "      <th>count</th>\n",
              "      <td>45.000000</td>\n",
              "      <td>45.000000</td>\n",
              "    </tr>\n",
              "    <tr>\n",
              "      <th>mean</th>\n",
              "      <td>23.000000</td>\n",
              "      <td>130287.600000</td>\n",
              "    </tr>\n",
              "    <tr>\n",
              "      <th>std</th>\n",
              "      <td>13.133926</td>\n",
              "      <td>63825.271991</td>\n",
              "    </tr>\n",
              "    <tr>\n",
              "      <th>min</th>\n",
              "      <td>1.000000</td>\n",
              "      <td>34875.000000</td>\n",
              "    </tr>\n",
              "    <tr>\n",
              "      <th>25%</th>\n",
              "      <td>12.000000</td>\n",
              "      <td>70713.000000</td>\n",
              "    </tr>\n",
              "    <tr>\n",
              "      <th>50%</th>\n",
              "      <td>23.000000</td>\n",
              "      <td>126512.000000</td>\n",
              "    </tr>\n",
              "    <tr>\n",
              "      <th>75%</th>\n",
              "      <td>34.000000</td>\n",
              "      <td>202307.000000</td>\n",
              "    </tr>\n",
              "    <tr>\n",
              "      <th>max</th>\n",
              "      <td>45.000000</td>\n",
              "      <td>219622.000000</td>\n",
              "    </tr>\n",
              "  </tbody>\n",
              "</table>\n",
              "</div>"
            ],
            "text/plain": [
              "           Store           Size\n",
              "count  45.000000      45.000000\n",
              "mean   23.000000  130287.600000\n",
              "std    13.133926   63825.271991\n",
              "min     1.000000   34875.000000\n",
              "25%    12.000000   70713.000000\n",
              "50%    23.000000  126512.000000\n",
              "75%    34.000000  202307.000000\n",
              "max    45.000000  219622.000000"
            ]
          },
          "metadata": {
            "tags": []
          },
          "execution_count": 19
        }
      ]
    },
    {
      "cell_type": "code",
      "metadata": {
        "colab": {
          "base_uri": "https://localhost:8080/",
          "height": 79
        },
        "id": "c4arzIUTBeLE",
        "outputId": "807ca282-f91d-489d-b278-36362efd27ed"
      },
      "source": [
        "# doing this task using SQL approach using same 3 Pandas Data Frames\r\n",
        "\r\n",
        "# Importing libraries \r\n",
        "import sqlite3\r\n",
        "conn = sqlite3.connect('local.db')\r\n",
        "# Query to get data count from features_df \r\n",
        "features_df.to_sql (\"features\", conn, if_exists=\"replace\", index=False)\r\n",
        "features_df_count = pd.read_sql_query(\"select count(*) as 'Features_DF_Cnt' from features\", conn) \r\n",
        "features_df_count\r\n",
        "\r\n",
        "# Query to get data count from stores_df \r\n",
        "stores_df.to_sql (\"stores\", conn, if_exists=\"replace\", index=False)\r\n",
        "stores_df_count = pd.read_sql_query(\"select count(*) as 'Stores_DF_Cnt' from stores\", conn) \r\n",
        "stores_df_count\r\n",
        "\r\n",
        "# Query to get data count from train_df \r\n",
        "train_df.to_sql (\"train\", conn, if_exists=\"replace\", index=False)\r\n",
        "train_df_count = pd.read_sql_query(\"select count(*) as 'Train_DF_Cnt' from train\", conn) \r\n",
        "train_df_count\r\n",
        "\r\n",
        "count_df = pd.concat([train_df_count,stores_df_count,features_df_count], axis = 1)\r\n",
        "count_df"
      ],
      "execution_count": 20,
      "outputs": [
        {
          "output_type": "execute_result",
          "data": {
            "text/html": [
              "<div>\n",
              "<style scoped>\n",
              "    .dataframe tbody tr th:only-of-type {\n",
              "        vertical-align: middle;\n",
              "    }\n",
              "\n",
              "    .dataframe tbody tr th {\n",
              "        vertical-align: top;\n",
              "    }\n",
              "\n",
              "    .dataframe thead th {\n",
              "        text-align: right;\n",
              "    }\n",
              "</style>\n",
              "<table border=\"1\" class=\"dataframe\">\n",
              "  <thead>\n",
              "    <tr style=\"text-align: right;\">\n",
              "      <th></th>\n",
              "      <th>Train_DF_Cnt</th>\n",
              "      <th>Stores_DF_Cnt</th>\n",
              "      <th>Features_DF_Cnt</th>\n",
              "    </tr>\n",
              "  </thead>\n",
              "  <tbody>\n",
              "    <tr>\n",
              "      <th>0</th>\n",
              "      <td>421570</td>\n",
              "      <td>45</td>\n",
              "      <td>2069</td>\n",
              "    </tr>\n",
              "  </tbody>\n",
              "</table>\n",
              "</div>"
            ],
            "text/plain": [
              "   Train_DF_Cnt  Stores_DF_Cnt  Features_DF_Cnt\n",
              "0        421570             45             2069"
            ]
          },
          "metadata": {
            "tags": []
          },
          "execution_count": 20
        }
      ]
    },
    {
      "cell_type": "code",
      "metadata": {
        "colab": {
          "base_uri": "https://localhost:8080/",
          "height": 79
        },
        "id": "nzgPsSONXHWF",
        "outputId": "a19feed0-f781-4b56-c9a6-e8e686af383a"
      },
      "source": [
        "# Drop rows with null value from all 3 data sets and count all datasets \r\n",
        "# Using pandas\r\n",
        "train_df_drop_na = train_df.dropna()\r\n",
        "features_df_drop_na = features_df.dropna()\r\n",
        "stores_df_drop_na = stores_df.dropna()\r\n",
        "\r\n",
        "# Perform a count again after dropping NA values from all 3 datasets. \r\n",
        "# Query to get data count from features_df \r\n",
        "features_df_drop_na.to_sql (\"features\", conn, if_exists=\"replace\", index=False)\r\n",
        "features_df_count = pd.read_sql_query(\"select count(*) as 'Features_DF_Cnt' from features\", conn) \r\n",
        "\r\n",
        "# Query to get data count from stores_df \r\n",
        "stores_df_drop_na.to_sql (\"stores\", conn, if_exists=\"replace\", index=False)\r\n",
        "stores_df_count = pd.read_sql_query(\"select count(*) as 'Stores_DF_Cnt' from stores\", conn) \r\n",
        "\r\n",
        "# Query to get data count from train_df \r\n",
        "train_df_drop_na.to_sql (\"train\", conn, if_exists=\"replace\", index=False)\r\n",
        "train_df_count = pd.read_sql_query(\"select count(*) as 'Train_DF_Cnt' from train\", conn) \r\n",
        "\r\n",
        "count_df = pd.concat([train_df_count,stores_df_count,features_df_count], axis = 1)\r\n",
        "count_df"
      ],
      "execution_count": 21,
      "outputs": [
        {
          "output_type": "execute_result",
          "data": {
            "text/html": [
              "<div>\n",
              "<style scoped>\n",
              "    .dataframe tbody tr th:only-of-type {\n",
              "        vertical-align: middle;\n",
              "    }\n",
              "\n",
              "    .dataframe tbody tr th {\n",
              "        vertical-align: top;\n",
              "    }\n",
              "\n",
              "    .dataframe thead th {\n",
              "        text-align: right;\n",
              "    }\n",
              "</style>\n",
              "<table border=\"1\" class=\"dataframe\">\n",
              "  <thead>\n",
              "    <tr style=\"text-align: right;\">\n",
              "      <th></th>\n",
              "      <th>Train_DF_Cnt</th>\n",
              "      <th>Stores_DF_Cnt</th>\n",
              "      <th>Features_DF_Cnt</th>\n",
              "    </tr>\n",
              "  </thead>\n",
              "  <tbody>\n",
              "    <tr>\n",
              "      <th>0</th>\n",
              "      <td>421570</td>\n",
              "      <td>45</td>\n",
              "      <td>2069</td>\n",
              "    </tr>\n",
              "  </tbody>\n",
              "</table>\n",
              "</div>"
            ],
            "text/plain": [
              "   Train_DF_Cnt  Stores_DF_Cnt  Features_DF_Cnt\n",
              "0        421570             45             2069"
            ]
          },
          "metadata": {
            "tags": []
          },
          "execution_count": 21
        }
      ]
    },
    {
      "cell_type": "code",
      "metadata": {
        "colab": {
          "base_uri": "https://localhost:8080/",
          "height": 165
        },
        "id": "ysEzFXvHnG1q",
        "outputId": "a086a02b-f8c5-4bcb-92a1-634296fd1de8"
      },
      "source": [
        "train_df_drop_na.head(2)\r\n",
        "features_df_drop_na.head(2)\r\n",
        "#stores_df_drop_na = stores_df.dropna()"
      ],
      "execution_count": 22,
      "outputs": [
        {
          "output_type": "execute_result",
          "data": {
            "text/html": [
              "<div>\n",
              "<style scoped>\n",
              "    .dataframe tbody tr th:only-of-type {\n",
              "        vertical-align: middle;\n",
              "    }\n",
              "\n",
              "    .dataframe tbody tr th {\n",
              "        vertical-align: top;\n",
              "    }\n",
              "\n",
              "    .dataframe thead th {\n",
              "        text-align: right;\n",
              "    }\n",
              "</style>\n",
              "<table border=\"1\" class=\"dataframe\">\n",
              "  <thead>\n",
              "    <tr style=\"text-align: right;\">\n",
              "      <th></th>\n",
              "      <th>Store</th>\n",
              "      <th>Date</th>\n",
              "      <th>Temperature</th>\n",
              "      <th>Fuel_Price</th>\n",
              "      <th>MarkDown1</th>\n",
              "      <th>MarkDown2</th>\n",
              "      <th>MarkDown3</th>\n",
              "      <th>MarkDown4</th>\n",
              "      <th>MarkDown5</th>\n",
              "      <th>CPI</th>\n",
              "      <th>Unemployment</th>\n",
              "      <th>IsHoliday</th>\n",
              "    </tr>\n",
              "  </thead>\n",
              "  <tbody>\n",
              "    <tr>\n",
              "      <th>92</th>\n",
              "      <td>1</td>\n",
              "      <td>2011-11-11</td>\n",
              "      <td>59.11</td>\n",
              "      <td>3.297</td>\n",
              "      <td>10382.90</td>\n",
              "      <td>6115.67</td>\n",
              "      <td>215.07</td>\n",
              "      <td>2406.62</td>\n",
              "      <td>6551.42</td>\n",
              "      <td>217.998085</td>\n",
              "      <td>7.866</td>\n",
              "      <td>False</td>\n",
              "    </tr>\n",
              "    <tr>\n",
              "      <th>93</th>\n",
              "      <td>1</td>\n",
              "      <td>2011-11-18</td>\n",
              "      <td>62.25</td>\n",
              "      <td>3.308</td>\n",
              "      <td>6074.12</td>\n",
              "      <td>254.39</td>\n",
              "      <td>51.98</td>\n",
              "      <td>427.39</td>\n",
              "      <td>5988.57</td>\n",
              "      <td>218.220509</td>\n",
              "      <td>7.866</td>\n",
              "      <td>False</td>\n",
              "    </tr>\n",
              "  </tbody>\n",
              "</table>\n",
              "</div>"
            ],
            "text/plain": [
              "    Store        Date  Temperature  ...         CPI  Unemployment  IsHoliday\n",
              "92      1  2011-11-11        59.11  ...  217.998085         7.866      False\n",
              "93      1  2011-11-18        62.25  ...  218.220509         7.866      False\n",
              "\n",
              "[2 rows x 12 columns]"
            ]
          },
          "metadata": {
            "tags": []
          },
          "execution_count": 22
        }
      ]
    },
    {
      "cell_type": "code",
      "metadata": {
        "colab": {
          "base_uri": "https://localhost:8080/",
          "height": 1000
        },
        "id": "zkqsOJIlaZtN",
        "outputId": "cffe7f11-a607-4b9d-e839-349a8abec4b6"
      },
      "source": [
        "# Merge all 3 data frames to a final data frame called - final_walmart_df\r\n",
        "# Perform an inner join between the train_df, stores_df and features_df on the Store, Date, IsHoliday column. \r\n",
        "\r\n",
        "# merge on train and features data frame\r\n",
        "merge_tr_fr_df = train_df_drop_na.merge(features_df_drop_na, how=\"left\", on=[\"Store\",\"Date\",\"IsHoliday\"])\r\n",
        "merge_tr_fr_df.head(3)\r\n",
        "\r\n",
        "# merge on train and stores data frame\r\n",
        "final_walmart_df = merge_tr_fr_df.merge(stores_df_drop_na, how=\"left\", on=[\"Store\"])\r\n",
        "display(final_walmart_df)\r\n",
        "\r\n",
        "# Check how our final final_walmart_df looks like\r\n",
        "print(\"Rows & Columns: \", final_walmart_df.shape, \"\\nAll columns in the final_walmart_df Data Frame: \", final_walmart_df.columns.tolist())\r\n",
        "\r\n",
        "# Replace the NaN values in markdown with 0\r\n",
        "final_walmart_df = final_walmart_df.fillna(0.0)\r\n",
        "final_walmart_df"
      ],
      "execution_count": 23,
      "outputs": [
        {
          "output_type": "display_data",
          "data": {
            "text/html": [
              "<div>\n",
              "<style scoped>\n",
              "    .dataframe tbody tr th:only-of-type {\n",
              "        vertical-align: middle;\n",
              "    }\n",
              "\n",
              "    .dataframe tbody tr th {\n",
              "        vertical-align: top;\n",
              "    }\n",
              "\n",
              "    .dataframe thead th {\n",
              "        text-align: right;\n",
              "    }\n",
              "</style>\n",
              "<table border=\"1\" class=\"dataframe\">\n",
              "  <thead>\n",
              "    <tr style=\"text-align: right;\">\n",
              "      <th></th>\n",
              "      <th>Store</th>\n",
              "      <th>Dept</th>\n",
              "      <th>Date</th>\n",
              "      <th>Weekly_Sales</th>\n",
              "      <th>IsHoliday</th>\n",
              "      <th>Temperature</th>\n",
              "      <th>Fuel_Price</th>\n",
              "      <th>MarkDown1</th>\n",
              "      <th>MarkDown2</th>\n",
              "      <th>MarkDown3</th>\n",
              "      <th>MarkDown4</th>\n",
              "      <th>MarkDown5</th>\n",
              "      <th>CPI</th>\n",
              "      <th>Unemployment</th>\n",
              "      <th>Type</th>\n",
              "      <th>Size</th>\n",
              "    </tr>\n",
              "  </thead>\n",
              "  <tbody>\n",
              "    <tr>\n",
              "      <th>0</th>\n",
              "      <td>1</td>\n",
              "      <td>1</td>\n",
              "      <td>05-02-2010</td>\n",
              "      <td>24924.50</td>\n",
              "      <td>False</td>\n",
              "      <td>NaN</td>\n",
              "      <td>NaN</td>\n",
              "      <td>NaN</td>\n",
              "      <td>NaN</td>\n",
              "      <td>NaN</td>\n",
              "      <td>NaN</td>\n",
              "      <td>NaN</td>\n",
              "      <td>NaN</td>\n",
              "      <td>NaN</td>\n",
              "      <td>A</td>\n",
              "      <td>151315</td>\n",
              "    </tr>\n",
              "    <tr>\n",
              "      <th>1</th>\n",
              "      <td>1</td>\n",
              "      <td>1</td>\n",
              "      <td>12-02-2010</td>\n",
              "      <td>46039.49</td>\n",
              "      <td>True</td>\n",
              "      <td>NaN</td>\n",
              "      <td>NaN</td>\n",
              "      <td>NaN</td>\n",
              "      <td>NaN</td>\n",
              "      <td>NaN</td>\n",
              "      <td>NaN</td>\n",
              "      <td>NaN</td>\n",
              "      <td>NaN</td>\n",
              "      <td>NaN</td>\n",
              "      <td>A</td>\n",
              "      <td>151315</td>\n",
              "    </tr>\n",
              "    <tr>\n",
              "      <th>2</th>\n",
              "      <td>1</td>\n",
              "      <td>1</td>\n",
              "      <td>19-02-2010</td>\n",
              "      <td>41595.55</td>\n",
              "      <td>False</td>\n",
              "      <td>NaN</td>\n",
              "      <td>NaN</td>\n",
              "      <td>NaN</td>\n",
              "      <td>NaN</td>\n",
              "      <td>NaN</td>\n",
              "      <td>NaN</td>\n",
              "      <td>NaN</td>\n",
              "      <td>NaN</td>\n",
              "      <td>NaN</td>\n",
              "      <td>A</td>\n",
              "      <td>151315</td>\n",
              "    </tr>\n",
              "    <tr>\n",
              "      <th>3</th>\n",
              "      <td>1</td>\n",
              "      <td>1</td>\n",
              "      <td>26-02-2010</td>\n",
              "      <td>19403.54</td>\n",
              "      <td>False</td>\n",
              "      <td>NaN</td>\n",
              "      <td>NaN</td>\n",
              "      <td>NaN</td>\n",
              "      <td>NaN</td>\n",
              "      <td>NaN</td>\n",
              "      <td>NaN</td>\n",
              "      <td>NaN</td>\n",
              "      <td>NaN</td>\n",
              "      <td>NaN</td>\n",
              "      <td>A</td>\n",
              "      <td>151315</td>\n",
              "    </tr>\n",
              "    <tr>\n",
              "      <th>4</th>\n",
              "      <td>1</td>\n",
              "      <td>1</td>\n",
              "      <td>05-03-2010</td>\n",
              "      <td>21827.90</td>\n",
              "      <td>False</td>\n",
              "      <td>NaN</td>\n",
              "      <td>NaN</td>\n",
              "      <td>NaN</td>\n",
              "      <td>NaN</td>\n",
              "      <td>NaN</td>\n",
              "      <td>NaN</td>\n",
              "      <td>NaN</td>\n",
              "      <td>NaN</td>\n",
              "      <td>NaN</td>\n",
              "      <td>A</td>\n",
              "      <td>151315</td>\n",
              "    </tr>\n",
              "    <tr>\n",
              "      <th>...</th>\n",
              "      <td>...</td>\n",
              "      <td>...</td>\n",
              "      <td>...</td>\n",
              "      <td>...</td>\n",
              "      <td>...</td>\n",
              "      <td>...</td>\n",
              "      <td>...</td>\n",
              "      <td>...</td>\n",
              "      <td>...</td>\n",
              "      <td>...</td>\n",
              "      <td>...</td>\n",
              "      <td>...</td>\n",
              "      <td>...</td>\n",
              "      <td>...</td>\n",
              "      <td>...</td>\n",
              "      <td>...</td>\n",
              "    </tr>\n",
              "    <tr>\n",
              "      <th>421565</th>\n",
              "      <td>45</td>\n",
              "      <td>98</td>\n",
              "      <td>28-09-2012</td>\n",
              "      <td>508.37</td>\n",
              "      <td>False</td>\n",
              "      <td>NaN</td>\n",
              "      <td>NaN</td>\n",
              "      <td>NaN</td>\n",
              "      <td>NaN</td>\n",
              "      <td>NaN</td>\n",
              "      <td>NaN</td>\n",
              "      <td>NaN</td>\n",
              "      <td>NaN</td>\n",
              "      <td>NaN</td>\n",
              "      <td>B</td>\n",
              "      <td>118221</td>\n",
              "    </tr>\n",
              "    <tr>\n",
              "      <th>421566</th>\n",
              "      <td>45</td>\n",
              "      <td>98</td>\n",
              "      <td>05-10-2012</td>\n",
              "      <td>628.10</td>\n",
              "      <td>False</td>\n",
              "      <td>NaN</td>\n",
              "      <td>NaN</td>\n",
              "      <td>NaN</td>\n",
              "      <td>NaN</td>\n",
              "      <td>NaN</td>\n",
              "      <td>NaN</td>\n",
              "      <td>NaN</td>\n",
              "      <td>NaN</td>\n",
              "      <td>NaN</td>\n",
              "      <td>B</td>\n",
              "      <td>118221</td>\n",
              "    </tr>\n",
              "    <tr>\n",
              "      <th>421567</th>\n",
              "      <td>45</td>\n",
              "      <td>98</td>\n",
              "      <td>12-10-2012</td>\n",
              "      <td>1061.02</td>\n",
              "      <td>False</td>\n",
              "      <td>NaN</td>\n",
              "      <td>NaN</td>\n",
              "      <td>NaN</td>\n",
              "      <td>NaN</td>\n",
              "      <td>NaN</td>\n",
              "      <td>NaN</td>\n",
              "      <td>NaN</td>\n",
              "      <td>NaN</td>\n",
              "      <td>NaN</td>\n",
              "      <td>B</td>\n",
              "      <td>118221</td>\n",
              "    </tr>\n",
              "    <tr>\n",
              "      <th>421568</th>\n",
              "      <td>45</td>\n",
              "      <td>98</td>\n",
              "      <td>19-10-2012</td>\n",
              "      <td>760.01</td>\n",
              "      <td>False</td>\n",
              "      <td>NaN</td>\n",
              "      <td>NaN</td>\n",
              "      <td>NaN</td>\n",
              "      <td>NaN</td>\n",
              "      <td>NaN</td>\n",
              "      <td>NaN</td>\n",
              "      <td>NaN</td>\n",
              "      <td>NaN</td>\n",
              "      <td>NaN</td>\n",
              "      <td>B</td>\n",
              "      <td>118221</td>\n",
              "    </tr>\n",
              "    <tr>\n",
              "      <th>421569</th>\n",
              "      <td>45</td>\n",
              "      <td>98</td>\n",
              "      <td>26-10-2012</td>\n",
              "      <td>1076.80</td>\n",
              "      <td>False</td>\n",
              "      <td>NaN</td>\n",
              "      <td>NaN</td>\n",
              "      <td>NaN</td>\n",
              "      <td>NaN</td>\n",
              "      <td>NaN</td>\n",
              "      <td>NaN</td>\n",
              "      <td>NaN</td>\n",
              "      <td>NaN</td>\n",
              "      <td>NaN</td>\n",
              "      <td>B</td>\n",
              "      <td>118221</td>\n",
              "    </tr>\n",
              "  </tbody>\n",
              "</table>\n",
              "<p>421570 rows × 16 columns</p>\n",
              "</div>"
            ],
            "text/plain": [
              "        Store  Dept        Date  Weekly_Sales  ...  CPI  Unemployment  Type    Size\n",
              "0           1     1  05-02-2010      24924.50  ...  NaN           NaN     A  151315\n",
              "1           1     1  12-02-2010      46039.49  ...  NaN           NaN     A  151315\n",
              "2           1     1  19-02-2010      41595.55  ...  NaN           NaN     A  151315\n",
              "3           1     1  26-02-2010      19403.54  ...  NaN           NaN     A  151315\n",
              "4           1     1  05-03-2010      21827.90  ...  NaN           NaN     A  151315\n",
              "...       ...   ...         ...           ...  ...  ...           ...   ...     ...\n",
              "421565     45    98  28-09-2012        508.37  ...  NaN           NaN     B  118221\n",
              "421566     45    98  05-10-2012        628.10  ...  NaN           NaN     B  118221\n",
              "421567     45    98  12-10-2012       1061.02  ...  NaN           NaN     B  118221\n",
              "421568     45    98  19-10-2012        760.01  ...  NaN           NaN     B  118221\n",
              "421569     45    98  26-10-2012       1076.80  ...  NaN           NaN     B  118221\n",
              "\n",
              "[421570 rows x 16 columns]"
            ]
          },
          "metadata": {
            "tags": []
          }
        },
        {
          "output_type": "stream",
          "text": [
            "Rows & Columns:  (421570, 16) \n",
            "All columns in the final_walmart_df Data Frame:  ['Store', 'Dept', 'Date', 'Weekly_Sales', 'IsHoliday', 'Temperature', 'Fuel_Price', 'MarkDown1', 'MarkDown2', 'MarkDown3', 'MarkDown4', 'MarkDown5', 'CPI', 'Unemployment', 'Type', 'Size']\n"
          ],
          "name": "stdout"
        },
        {
          "output_type": "execute_result",
          "data": {
            "text/html": [
              "<div>\n",
              "<style scoped>\n",
              "    .dataframe tbody tr th:only-of-type {\n",
              "        vertical-align: middle;\n",
              "    }\n",
              "\n",
              "    .dataframe tbody tr th {\n",
              "        vertical-align: top;\n",
              "    }\n",
              "\n",
              "    .dataframe thead th {\n",
              "        text-align: right;\n",
              "    }\n",
              "</style>\n",
              "<table border=\"1\" class=\"dataframe\">\n",
              "  <thead>\n",
              "    <tr style=\"text-align: right;\">\n",
              "      <th></th>\n",
              "      <th>Store</th>\n",
              "      <th>Dept</th>\n",
              "      <th>Date</th>\n",
              "      <th>Weekly_Sales</th>\n",
              "      <th>IsHoliday</th>\n",
              "      <th>Temperature</th>\n",
              "      <th>Fuel_Price</th>\n",
              "      <th>MarkDown1</th>\n",
              "      <th>MarkDown2</th>\n",
              "      <th>MarkDown3</th>\n",
              "      <th>MarkDown4</th>\n",
              "      <th>MarkDown5</th>\n",
              "      <th>CPI</th>\n",
              "      <th>Unemployment</th>\n",
              "      <th>Type</th>\n",
              "      <th>Size</th>\n",
              "    </tr>\n",
              "  </thead>\n",
              "  <tbody>\n",
              "    <tr>\n",
              "      <th>0</th>\n",
              "      <td>1</td>\n",
              "      <td>1</td>\n",
              "      <td>05-02-2010</td>\n",
              "      <td>24924.50</td>\n",
              "      <td>False</td>\n",
              "      <td>0.0</td>\n",
              "      <td>0.0</td>\n",
              "      <td>0.0</td>\n",
              "      <td>0.0</td>\n",
              "      <td>0.0</td>\n",
              "      <td>0.0</td>\n",
              "      <td>0.0</td>\n",
              "      <td>0.0</td>\n",
              "      <td>0.0</td>\n",
              "      <td>A</td>\n",
              "      <td>151315</td>\n",
              "    </tr>\n",
              "    <tr>\n",
              "      <th>1</th>\n",
              "      <td>1</td>\n",
              "      <td>1</td>\n",
              "      <td>12-02-2010</td>\n",
              "      <td>46039.49</td>\n",
              "      <td>True</td>\n",
              "      <td>0.0</td>\n",
              "      <td>0.0</td>\n",
              "      <td>0.0</td>\n",
              "      <td>0.0</td>\n",
              "      <td>0.0</td>\n",
              "      <td>0.0</td>\n",
              "      <td>0.0</td>\n",
              "      <td>0.0</td>\n",
              "      <td>0.0</td>\n",
              "      <td>A</td>\n",
              "      <td>151315</td>\n",
              "    </tr>\n",
              "    <tr>\n",
              "      <th>2</th>\n",
              "      <td>1</td>\n",
              "      <td>1</td>\n",
              "      <td>19-02-2010</td>\n",
              "      <td>41595.55</td>\n",
              "      <td>False</td>\n",
              "      <td>0.0</td>\n",
              "      <td>0.0</td>\n",
              "      <td>0.0</td>\n",
              "      <td>0.0</td>\n",
              "      <td>0.0</td>\n",
              "      <td>0.0</td>\n",
              "      <td>0.0</td>\n",
              "      <td>0.0</td>\n",
              "      <td>0.0</td>\n",
              "      <td>A</td>\n",
              "      <td>151315</td>\n",
              "    </tr>\n",
              "    <tr>\n",
              "      <th>3</th>\n",
              "      <td>1</td>\n",
              "      <td>1</td>\n",
              "      <td>26-02-2010</td>\n",
              "      <td>19403.54</td>\n",
              "      <td>False</td>\n",
              "      <td>0.0</td>\n",
              "      <td>0.0</td>\n",
              "      <td>0.0</td>\n",
              "      <td>0.0</td>\n",
              "      <td>0.0</td>\n",
              "      <td>0.0</td>\n",
              "      <td>0.0</td>\n",
              "      <td>0.0</td>\n",
              "      <td>0.0</td>\n",
              "      <td>A</td>\n",
              "      <td>151315</td>\n",
              "    </tr>\n",
              "    <tr>\n",
              "      <th>4</th>\n",
              "      <td>1</td>\n",
              "      <td>1</td>\n",
              "      <td>05-03-2010</td>\n",
              "      <td>21827.90</td>\n",
              "      <td>False</td>\n",
              "      <td>0.0</td>\n",
              "      <td>0.0</td>\n",
              "      <td>0.0</td>\n",
              "      <td>0.0</td>\n",
              "      <td>0.0</td>\n",
              "      <td>0.0</td>\n",
              "      <td>0.0</td>\n",
              "      <td>0.0</td>\n",
              "      <td>0.0</td>\n",
              "      <td>A</td>\n",
              "      <td>151315</td>\n",
              "    </tr>\n",
              "    <tr>\n",
              "      <th>...</th>\n",
              "      <td>...</td>\n",
              "      <td>...</td>\n",
              "      <td>...</td>\n",
              "      <td>...</td>\n",
              "      <td>...</td>\n",
              "      <td>...</td>\n",
              "      <td>...</td>\n",
              "      <td>...</td>\n",
              "      <td>...</td>\n",
              "      <td>...</td>\n",
              "      <td>...</td>\n",
              "      <td>...</td>\n",
              "      <td>...</td>\n",
              "      <td>...</td>\n",
              "      <td>...</td>\n",
              "      <td>...</td>\n",
              "    </tr>\n",
              "    <tr>\n",
              "      <th>421565</th>\n",
              "      <td>45</td>\n",
              "      <td>98</td>\n",
              "      <td>28-09-2012</td>\n",
              "      <td>508.37</td>\n",
              "      <td>False</td>\n",
              "      <td>0.0</td>\n",
              "      <td>0.0</td>\n",
              "      <td>0.0</td>\n",
              "      <td>0.0</td>\n",
              "      <td>0.0</td>\n",
              "      <td>0.0</td>\n",
              "      <td>0.0</td>\n",
              "      <td>0.0</td>\n",
              "      <td>0.0</td>\n",
              "      <td>B</td>\n",
              "      <td>118221</td>\n",
              "    </tr>\n",
              "    <tr>\n",
              "      <th>421566</th>\n",
              "      <td>45</td>\n",
              "      <td>98</td>\n",
              "      <td>05-10-2012</td>\n",
              "      <td>628.10</td>\n",
              "      <td>False</td>\n",
              "      <td>0.0</td>\n",
              "      <td>0.0</td>\n",
              "      <td>0.0</td>\n",
              "      <td>0.0</td>\n",
              "      <td>0.0</td>\n",
              "      <td>0.0</td>\n",
              "      <td>0.0</td>\n",
              "      <td>0.0</td>\n",
              "      <td>0.0</td>\n",
              "      <td>B</td>\n",
              "      <td>118221</td>\n",
              "    </tr>\n",
              "    <tr>\n",
              "      <th>421567</th>\n",
              "      <td>45</td>\n",
              "      <td>98</td>\n",
              "      <td>12-10-2012</td>\n",
              "      <td>1061.02</td>\n",
              "      <td>False</td>\n",
              "      <td>0.0</td>\n",
              "      <td>0.0</td>\n",
              "      <td>0.0</td>\n",
              "      <td>0.0</td>\n",
              "      <td>0.0</td>\n",
              "      <td>0.0</td>\n",
              "      <td>0.0</td>\n",
              "      <td>0.0</td>\n",
              "      <td>0.0</td>\n",
              "      <td>B</td>\n",
              "      <td>118221</td>\n",
              "    </tr>\n",
              "    <tr>\n",
              "      <th>421568</th>\n",
              "      <td>45</td>\n",
              "      <td>98</td>\n",
              "      <td>19-10-2012</td>\n",
              "      <td>760.01</td>\n",
              "      <td>False</td>\n",
              "      <td>0.0</td>\n",
              "      <td>0.0</td>\n",
              "      <td>0.0</td>\n",
              "      <td>0.0</td>\n",
              "      <td>0.0</td>\n",
              "      <td>0.0</td>\n",
              "      <td>0.0</td>\n",
              "      <td>0.0</td>\n",
              "      <td>0.0</td>\n",
              "      <td>B</td>\n",
              "      <td>118221</td>\n",
              "    </tr>\n",
              "    <tr>\n",
              "      <th>421569</th>\n",
              "      <td>45</td>\n",
              "      <td>98</td>\n",
              "      <td>26-10-2012</td>\n",
              "      <td>1076.80</td>\n",
              "      <td>False</td>\n",
              "      <td>0.0</td>\n",
              "      <td>0.0</td>\n",
              "      <td>0.0</td>\n",
              "      <td>0.0</td>\n",
              "      <td>0.0</td>\n",
              "      <td>0.0</td>\n",
              "      <td>0.0</td>\n",
              "      <td>0.0</td>\n",
              "      <td>0.0</td>\n",
              "      <td>B</td>\n",
              "      <td>118221</td>\n",
              "    </tr>\n",
              "  </tbody>\n",
              "</table>\n",
              "<p>421570 rows × 16 columns</p>\n",
              "</div>"
            ],
            "text/plain": [
              "        Store  Dept        Date  Weekly_Sales  ...  CPI  Unemployment  Type    Size\n",
              "0           1     1  05-02-2010      24924.50  ...  0.0           0.0     A  151315\n",
              "1           1     1  12-02-2010      46039.49  ...  0.0           0.0     A  151315\n",
              "2           1     1  19-02-2010      41595.55  ...  0.0           0.0     A  151315\n",
              "3           1     1  26-02-2010      19403.54  ...  0.0           0.0     A  151315\n",
              "4           1     1  05-03-2010      21827.90  ...  0.0           0.0     A  151315\n",
              "...       ...   ...         ...           ...  ...  ...           ...   ...     ...\n",
              "421565     45    98  28-09-2012        508.37  ...  0.0           0.0     B  118221\n",
              "421566     45    98  05-10-2012        628.10  ...  0.0           0.0     B  118221\n",
              "421567     45    98  12-10-2012       1061.02  ...  0.0           0.0     B  118221\n",
              "421568     45    98  19-10-2012        760.01  ...  0.0           0.0     B  118221\n",
              "421569     45    98  26-10-2012       1076.80  ...  0.0           0.0     B  118221\n",
              "\n",
              "[421570 rows x 16 columns]"
            ]
          },
          "metadata": {
            "tags": []
          },
          "execution_count": 23
        }
      ]
    },
    {
      "cell_type": "code",
      "metadata": {
        "colab": {
          "base_uri": "https://localhost:8080/"
        },
        "id": "Y5tsBKH8wYIl",
        "outputId": "98317192-1eee-49b0-93a4-a89b760a75a5"
      },
      "source": [
        "# Standard plotly imports\r\n",
        "!pip install cufflinks plotly\r\n",
        "!pip install chart_studio"
      ],
      "execution_count": 24,
      "outputs": [
        {
          "output_type": "stream",
          "text": [
            "Requirement already satisfied: cufflinks in /usr/local/lib/python3.7/dist-packages (0.17.3)\n",
            "Requirement already satisfied: plotly in /usr/local/lib/python3.7/dist-packages (4.4.1)\n",
            "Requirement already satisfied: setuptools>=34.4.1 in /usr/local/lib/python3.7/dist-packages (from cufflinks) (54.0.0)\n",
            "Requirement already satisfied: ipywidgets>=7.0.0 in /usr/local/lib/python3.7/dist-packages (from cufflinks) (7.6.3)\n",
            "Requirement already satisfied: ipython>=5.3.0 in /usr/local/lib/python3.7/dist-packages (from cufflinks) (5.5.0)\n",
            "Requirement already satisfied: six>=1.9.0 in /usr/local/lib/python3.7/dist-packages (from cufflinks) (1.15.0)\n",
            "Requirement already satisfied: colorlover>=0.2.1 in /usr/local/lib/python3.7/dist-packages (from cufflinks) (0.3.0)\n",
            "Requirement already satisfied: pandas>=0.19.2 in /usr/local/lib/python3.7/dist-packages (from cufflinks) (1.1.5)\n",
            "Requirement already satisfied: numpy>=1.9.2 in /usr/local/lib/python3.7/dist-packages (from cufflinks) (1.19.5)\n",
            "Requirement already satisfied: retrying>=1.3.3 in /usr/local/lib/python3.7/dist-packages (from plotly) (1.3.3)\n",
            "Requirement already satisfied: ipykernel>=4.5.1 in /usr/local/lib/python3.7/dist-packages (from ipywidgets>=7.0.0->cufflinks) (4.10.1)\n",
            "Requirement already satisfied: jupyterlab-widgets>=1.0.0; python_version >= \"3.6\" in /usr/local/lib/python3.7/dist-packages (from ipywidgets>=7.0.0->cufflinks) (1.0.0)\n",
            "Requirement already satisfied: widgetsnbextension~=3.5.0 in /usr/local/lib/python3.7/dist-packages (from ipywidgets>=7.0.0->cufflinks) (3.5.1)\n",
            "Requirement already satisfied: traitlets>=4.3.1 in /usr/local/lib/python3.7/dist-packages (from ipywidgets>=7.0.0->cufflinks) (5.0.5)\n",
            "Requirement already satisfied: nbformat>=4.2.0 in /usr/local/lib/python3.7/dist-packages (from ipywidgets>=7.0.0->cufflinks) (5.1.2)\n",
            "Requirement already satisfied: simplegeneric>0.8 in /usr/local/lib/python3.7/dist-packages (from ipython>=5.3.0->cufflinks) (0.8.1)\n",
            "Requirement already satisfied: decorator in /usr/local/lib/python3.7/dist-packages (from ipython>=5.3.0->cufflinks) (4.4.2)\n",
            "Requirement already satisfied: pickleshare in /usr/local/lib/python3.7/dist-packages (from ipython>=5.3.0->cufflinks) (0.7.5)\n",
            "Requirement already satisfied: pexpect; sys_platform != \"win32\" in /usr/local/lib/python3.7/dist-packages (from ipython>=5.3.0->cufflinks) (4.8.0)\n",
            "Requirement already satisfied: pygments in /usr/local/lib/python3.7/dist-packages (from ipython>=5.3.0->cufflinks) (2.6.1)\n",
            "Requirement already satisfied: prompt-toolkit<2.0.0,>=1.0.4 in /usr/local/lib/python3.7/dist-packages (from ipython>=5.3.0->cufflinks) (1.0.18)\n",
            "Requirement already satisfied: pytz>=2017.2 in /usr/local/lib/python3.7/dist-packages (from pandas>=0.19.2->cufflinks) (2018.9)\n",
            "Requirement already satisfied: python-dateutil>=2.7.3 in /usr/local/lib/python3.7/dist-packages (from pandas>=0.19.2->cufflinks) (2.8.1)\n",
            "Requirement already satisfied: tornado>=4.0 in /usr/local/lib/python3.7/dist-packages (from ipykernel>=4.5.1->ipywidgets>=7.0.0->cufflinks) (5.1.1)\n",
            "Requirement already satisfied: jupyter-client in /usr/local/lib/python3.7/dist-packages (from ipykernel>=4.5.1->ipywidgets>=7.0.0->cufflinks) (5.3.5)\n",
            "Requirement already satisfied: notebook>=4.4.1 in /usr/local/lib/python3.7/dist-packages (from widgetsnbextension~=3.5.0->ipywidgets>=7.0.0->cufflinks) (5.3.1)\n",
            "Requirement already satisfied: ipython-genutils in /usr/local/lib/python3.7/dist-packages (from traitlets>=4.3.1->ipywidgets>=7.0.0->cufflinks) (0.2.0)\n",
            "Requirement already satisfied: jupyter-core in /usr/local/lib/python3.7/dist-packages (from nbformat>=4.2.0->ipywidgets>=7.0.0->cufflinks) (4.7.1)\n",
            "Requirement already satisfied: jsonschema!=2.5.0,>=2.4 in /usr/local/lib/python3.7/dist-packages (from nbformat>=4.2.0->ipywidgets>=7.0.0->cufflinks) (2.6.0)\n",
            "Requirement already satisfied: ptyprocess>=0.5 in /usr/local/lib/python3.7/dist-packages (from pexpect; sys_platform != \"win32\"->ipython>=5.3.0->cufflinks) (0.7.0)\n",
            "Requirement already satisfied: wcwidth in /usr/local/lib/python3.7/dist-packages (from prompt-toolkit<2.0.0,>=1.0.4->ipython>=5.3.0->cufflinks) (0.2.5)\n",
            "Requirement already satisfied: pyzmq>=13 in /usr/local/lib/python3.7/dist-packages (from jupyter-client->ipykernel>=4.5.1->ipywidgets>=7.0.0->cufflinks) (22.0.3)\n",
            "Requirement already satisfied: nbconvert in /usr/local/lib/python3.7/dist-packages (from notebook>=4.4.1->widgetsnbextension~=3.5.0->ipywidgets>=7.0.0->cufflinks) (5.6.1)\n",
            "Requirement already satisfied: Send2Trash in /usr/local/lib/python3.7/dist-packages (from notebook>=4.4.1->widgetsnbextension~=3.5.0->ipywidgets>=7.0.0->cufflinks) (1.5.0)\n",
            "Requirement already satisfied: jinja2 in /usr/local/lib/python3.7/dist-packages (from notebook>=4.4.1->widgetsnbextension~=3.5.0->ipywidgets>=7.0.0->cufflinks) (2.11.3)\n",
            "Requirement already satisfied: terminado>=0.8.1 in /usr/local/lib/python3.7/dist-packages (from notebook>=4.4.1->widgetsnbextension~=3.5.0->ipywidgets>=7.0.0->cufflinks) (0.9.2)\n",
            "Requirement already satisfied: entrypoints>=0.2.2 in /usr/local/lib/python3.7/dist-packages (from nbconvert->notebook>=4.4.1->widgetsnbextension~=3.5.0->ipywidgets>=7.0.0->cufflinks) (0.3)\n",
            "Requirement already satisfied: defusedxml in /usr/local/lib/python3.7/dist-packages (from nbconvert->notebook>=4.4.1->widgetsnbextension~=3.5.0->ipywidgets>=7.0.0->cufflinks) (0.6.0)\n",
            "Requirement already satisfied: mistune<2,>=0.8.1 in /usr/local/lib/python3.7/dist-packages (from nbconvert->notebook>=4.4.1->widgetsnbextension~=3.5.0->ipywidgets>=7.0.0->cufflinks) (0.8.4)\n",
            "Requirement already satisfied: bleach in /usr/local/lib/python3.7/dist-packages (from nbconvert->notebook>=4.4.1->widgetsnbextension~=3.5.0->ipywidgets>=7.0.0->cufflinks) (3.3.0)\n",
            "Requirement already satisfied: testpath in /usr/local/lib/python3.7/dist-packages (from nbconvert->notebook>=4.4.1->widgetsnbextension~=3.5.0->ipywidgets>=7.0.0->cufflinks) (0.4.4)\n",
            "Requirement already satisfied: pandocfilters>=1.4.1 in /usr/local/lib/python3.7/dist-packages (from nbconvert->notebook>=4.4.1->widgetsnbextension~=3.5.0->ipywidgets>=7.0.0->cufflinks) (1.4.3)\n",
            "Requirement already satisfied: MarkupSafe>=0.23 in /usr/local/lib/python3.7/dist-packages (from jinja2->notebook>=4.4.1->widgetsnbextension~=3.5.0->ipywidgets>=7.0.0->cufflinks) (1.1.1)\n",
            "Requirement already satisfied: packaging in /usr/local/lib/python3.7/dist-packages (from bleach->nbconvert->notebook>=4.4.1->widgetsnbextension~=3.5.0->ipywidgets>=7.0.0->cufflinks) (20.9)\n",
            "Requirement already satisfied: webencodings in /usr/local/lib/python3.7/dist-packages (from bleach->nbconvert->notebook>=4.4.1->widgetsnbextension~=3.5.0->ipywidgets>=7.0.0->cufflinks) (0.5.1)\n",
            "Requirement already satisfied: pyparsing>=2.0.2 in /usr/local/lib/python3.7/dist-packages (from packaging->bleach->nbconvert->notebook>=4.4.1->widgetsnbextension~=3.5.0->ipywidgets>=7.0.0->cufflinks) (2.4.7)\n",
            "Collecting chart_studio\n",
            "\u001b[?25l  Downloading https://files.pythonhosted.org/packages/ca/ce/330794a6b6ca4b9182c38fc69dd2a9cbff60fd49421cb8648ee5fee352dc/chart_studio-1.1.0-py3-none-any.whl (64kB)\n",
            "\u001b[K     |████████████████████████████████| 71kB 3.2MB/s \n",
            "\u001b[?25hRequirement already satisfied: retrying>=1.3.3 in /usr/local/lib/python3.7/dist-packages (from chart_studio) (1.3.3)\n",
            "Requirement already satisfied: plotly in /usr/local/lib/python3.7/dist-packages (from chart_studio) (4.4.1)\n",
            "Requirement already satisfied: requests in /usr/local/lib/python3.7/dist-packages (from chart_studio) (2.23.0)\n",
            "Requirement already satisfied: six in /usr/local/lib/python3.7/dist-packages (from chart_studio) (1.15.0)\n",
            "Requirement already satisfied: certifi>=2017.4.17 in /usr/local/lib/python3.7/dist-packages (from requests->chart_studio) (2020.12.5)\n",
            "Requirement already satisfied: chardet<4,>=3.0.2 in /usr/local/lib/python3.7/dist-packages (from requests->chart_studio) (3.0.4)\n",
            "Requirement already satisfied: urllib3!=1.25.0,!=1.25.1,<1.26,>=1.21.1 in /usr/local/lib/python3.7/dist-packages (from requests->chart_studio) (1.24.3)\n",
            "Requirement already satisfied: idna<3,>=2.5 in /usr/local/lib/python3.7/dist-packages (from requests->chart_studio) (2.10)\n",
            "Installing collected packages: chart-studio\n",
            "Successfully installed chart-studio-1.1.0\n"
          ],
          "name": "stdout"
        }
      ]
    },
    {
      "cell_type": "code",
      "metadata": {
        "colab": {
          "base_uri": "https://localhost:8080/",
          "height": 17
        },
        "id": "WJg6Qes1w1cu",
        "outputId": "bba05fc6-baf7-4c1a-a6fd-2a66fa663ac4"
      },
      "source": [
        "import plotly\r\n",
        "import chart_studio.plotly as py\r\n",
        "import plotly.figure_factory as ff\r\n",
        "import plotly.graph_objs as go\r\n",
        "from plotly.offline import iplot, init_notebook_mode\r\n",
        "# Using plotly + cufflinks in offline mode\r\n",
        "import cufflinks\r\n",
        "cufflinks.go_offline(connected=True)\r\n",
        "init_notebook_mode(connected=True)"
      ],
      "execution_count": 27,
      "outputs": [
        {
          "output_type": "display_data",
          "data": {
            "text/html": [
              "        <script type=\"text/javascript\">\n",
              "        window.PlotlyConfig = {MathJaxConfig: 'local'};\n",
              "        if (window.MathJax) {MathJax.Hub.Config({SVG: {font: \"STIX-Web\"}});}\n",
              "        if (typeof require !== 'undefined') {\n",
              "        require.undef(\"plotly\");\n",
              "        requirejs.config({\n",
              "            paths: {\n",
              "                'plotly': ['https://cdn.plot.ly/plotly-latest.min']\n",
              "            }\n",
              "        });\n",
              "        require(['plotly'], function(Plotly) {\n",
              "            window._Plotly = Plotly;\n",
              "        });\n",
              "        }\n",
              "        </script>\n",
              "        "
            ]
          },
          "metadata": {
            "tags": []
          }
        },
        {
          "output_type": "display_data",
          "data": {
            "text/html": [
              "        <script type=\"text/javascript\">\n",
              "        window.PlotlyConfig = {MathJaxConfig: 'local'};\n",
              "        if (window.MathJax) {MathJax.Hub.Config({SVG: {font: \"STIX-Web\"}});}\n",
              "        if (typeof require !== 'undefined') {\n",
              "        require.undef(\"plotly\");\n",
              "        requirejs.config({\n",
              "            paths: {\n",
              "                'plotly': ['https://cdn.plot.ly/plotly-latest.min']\n",
              "            }\n",
              "        });\n",
              "        require(['plotly'], function(Plotly) {\n",
              "            window._Plotly = Plotly;\n",
              "        });\n",
              "        }\n",
              "        </script>\n",
              "        "
            ]
          },
          "metadata": {
            "tags": []
          }
        }
      ]
    },
    {
      "cell_type": "markdown",
      "metadata": {
        "id": "R0QpYKC0PcW8"
      },
      "source": [
        "# Data Visualisation Of Wallmart data"
      ]
    },
    {
      "cell_type": "code",
      "metadata": {
        "colab": {
          "base_uri": "https://localhost:8080/",
          "height": 575
        },
        "id": "NjPl7qLDO-DU",
        "outputId": "c1d789af-9e8a-4e16-f509-f952d42139a3"
      },
      "source": [
        "# Store Type Vs. Weekly Sales\r\n",
        "\r\n",
        "sorted_type = stores_df.groupby('Type')\r\n",
        "plt.style.use('ggplot')\r\n",
        "labels=['A store','B store','C store']\r\n",
        "sizes=sorted_type.describe()['Size'].round(1)\r\n",
        "sizes=[(22/(17+6+22))*100,(17/(17+6+22))*100,(6/(17+6+22))*100] # convert to the proportion\r\n",
        "fig, axes = plt.subplots(1,1, figsize=(10,10))\r\n",
        "wprops={'edgecolor':'black',\r\n",
        "      'linewidth':2}\r\n",
        "tprops = {'fontsize':30}\r\n",
        "axes.pie(sizes,\r\n",
        "        labels=labels,\r\n",
        "        explode=(0.0,0,0),\r\n",
        "        autopct='%1.1f%%',\r\n",
        "        pctdistance=0.6,\r\n",
        "        labeldistance=1.2,\r\n",
        "        wedgeprops=wprops,\r\n",
        "        textprops=tprops,\r\n",
        "        radius=0.8,\r\n",
        "        center=(0.5,0.5))\r\n",
        "plt.show()"
      ],
      "execution_count": 28,
      "outputs": [
        {
          "output_type": "display_data",
          "data": {
            "image/png": "[encoded data removed]",
            "text/plain": [
              "<Figure size 720x720 with 1 Axes>"
            ]
          },
          "metadata": {
            "tags": []
          }
        }
      ]
    },
    {
      "cell_type": "code",
      "metadata": {
        "colab": {
          "base_uri": "https://localhost:8080/",
          "height": 299
        },
        "id": "qv4dR1JMQcYo",
        "outputId": "e4e33cdd-ae52-497e-8a49-8eef32251e8a"
      },
      "source": [
        "# Weekly Sales on holidays and non-holidays\r\n",
        "\r\n",
        "holiday = final_walmart_df['Weekly_Sales'].loc[final_walmart_df['IsHoliday']== True]      # Weekly Sales in Holidays\r\n",
        "non_holiday = final_walmart_df['Weekly_Sales'].loc[final_walmart_df['IsHoliday']== False] # Weekly Sales in Non-holidays.\r\n",
        "sns.barplot(x='IsHoliday', y='Weekly_Sales', data=final_walmart_df)\r\n"
      ],
      "execution_count": 31,
      "outputs": [
        {
          "output_type": "execute_result",
          "data": {
            "text/plain": [
              "<matplotlib.axes._subplots.AxesSubplot at 0x7f5fed794a10>"
            ]
          },
          "metadata": {
            "tags": []
          },
          "execution_count": 31
        },
        {
          "output_type": "display_data",
          "data": {
            "image/png": "[encoded data removed]",
            "text/plain": [
              "<Figure size 432x288 with 1 Axes>"
            ]
          },
          "metadata": {
            "tags": []
          }
        }
      ]
    },
    {
      "cell_type": "code",
      "metadata": {
        "colab": {
          "base_uri": "https://localhost:8080/",
          "height": 428
        },
        "id": "ek0zUMeGRdZS",
        "outputId": "c98ebeaf-6909-4aaa-c645-1c25ae217ef2"
      },
      "source": [
        "# Weekly Sales by Department and Holiday\r\n",
        "\r\n",
        "data_11= pd.concat([final_walmart_df['Dept'], final_walmart_df['Weekly_Sales'], final_walmart_df['IsHoliday']], axis=1)\r\n",
        "plt.figure(figsize=(20,6))\r\n",
        "plt.title('Box Plot of Weekly Sales by Department and Holiday')\r\n",
        "fig = sns.boxplot(x='Dept', y='Weekly_Sales', data=data_11, showfliers=False, hue=\"IsHoliday\")"
      ],
      "execution_count": 32,
      "outputs": [
        {
          "output_type": "display_data",
          "data": {
            "image/png": "[encoded data removed]",
            "text/plain": [
              "<Figure size 1440x432 with 1 Axes>"
            ]
          },
          "metadata": {
            "tags": []
          }
        }
      ]
    },
    {
      "cell_type": "code",
      "metadata": {
        "colab": {
          "base_uri": "https://localhost:8080/"
        },
        "id": "QusNI0GeUKSM",
        "outputId": "65bf4c50-f4cb-4aa0-fcdc-2ac003549834"
      },
      "source": [
        "final_walmart_df.dtypes"
      ],
      "execution_count": 40,
      "outputs": [
        {
          "output_type": "execute_result",
          "data": {
            "text/plain": [
              "Store             int64\n",
              "Dept              int64\n",
              "Date             object\n",
              "Weekly_Sales    float64\n",
              "IsHoliday          bool\n",
              "Temperature     float64\n",
              "Fuel_Price      float64\n",
              "MarkDown1       float64\n",
              "MarkDown2       float64\n",
              "MarkDown3       float64\n",
              "MarkDown4       float64\n",
              "MarkDown5       float64\n",
              "CPI             float64\n",
              "Unemployment    float64\n",
              "Type             object\n",
              "Size              int64\n",
              "dtype: object"
            ]
          },
          "metadata": {
            "tags": []
          },
          "execution_count": 40
        }
      ]
    },
    {
      "cell_type": "code",
      "metadata": {
        "colab": {
          "base_uri": "https://localhost:8080/",
          "height": 165
        },
        "id": "CGA-OpoFUQkb",
        "outputId": "ade424f7-48c8-488d-ba06-56ccca25c656"
      },
      "source": [
        "final_walmart_df['Date'] = pd.to_datetime(final_walmart_df['Date'])\r\n",
        "final_walmart_df['month'] = pd.DatetimeIndex(final_walmart_df['Date']).month\r\n",
        "final_walmart_df.head(2)"
      ],
      "execution_count": 47,
      "outputs": [
        {
          "output_type": "execute_result",
          "data": {
            "text/html": [
              "<div>\n",
              "<style scoped>\n",
              "    .dataframe tbody tr th:only-of-type {\n",
              "        vertical-align: middle;\n",
              "    }\n",
              "\n",
              "    .dataframe tbody tr th {\n",
              "        vertical-align: top;\n",
              "    }\n",
              "\n",
              "    .dataframe thead th {\n",
              "        text-align: right;\n",
              "    }\n",
              "</style>\n",
              "<table border=\"1\" class=\"dataframe\">\n",
              "  <thead>\n",
              "    <tr style=\"text-align: right;\">\n",
              "      <th></th>\n",
              "      <th>Store</th>\n",
              "      <th>Dept</th>\n",
              "      <th>Date</th>\n",
              "      <th>Weekly_Sales</th>\n",
              "      <th>IsHoliday</th>\n",
              "      <th>Temperature</th>\n",
              "      <th>Fuel_Price</th>\n",
              "      <th>MarkDown1</th>\n",
              "      <th>MarkDown2</th>\n",
              "      <th>MarkDown3</th>\n",
              "      <th>MarkDown4</th>\n",
              "      <th>MarkDown5</th>\n",
              "      <th>CPI</th>\n",
              "      <th>Unemployment</th>\n",
              "      <th>Type</th>\n",
              "      <th>Size</th>\n",
              "      <th>month</th>\n",
              "    </tr>\n",
              "  </thead>\n",
              "  <tbody>\n",
              "    <tr>\n",
              "      <th>0</th>\n",
              "      <td>1</td>\n",
              "      <td>1</td>\n",
              "      <td>2010-05-02</td>\n",
              "      <td>24924.50</td>\n",
              "      <td>False</td>\n",
              "      <td>0.0</td>\n",
              "      <td>0.0</td>\n",
              "      <td>0.0</td>\n",
              "      <td>0.0</td>\n",
              "      <td>0.0</td>\n",
              "      <td>0.0</td>\n",
              "      <td>0.0</td>\n",
              "      <td>0.0</td>\n",
              "      <td>0.0</td>\n",
              "      <td>A</td>\n",
              "      <td>151315</td>\n",
              "      <td>5</td>\n",
              "    </tr>\n",
              "    <tr>\n",
              "      <th>1</th>\n",
              "      <td>1</td>\n",
              "      <td>1</td>\n",
              "      <td>2010-12-02</td>\n",
              "      <td>46039.49</td>\n",
              "      <td>True</td>\n",
              "      <td>0.0</td>\n",
              "      <td>0.0</td>\n",
              "      <td>0.0</td>\n",
              "      <td>0.0</td>\n",
              "      <td>0.0</td>\n",
              "      <td>0.0</td>\n",
              "      <td>0.0</td>\n",
              "      <td>0.0</td>\n",
              "      <td>0.0</td>\n",
              "      <td>A</td>\n",
              "      <td>151315</td>\n",
              "      <td>12</td>\n",
              "    </tr>\n",
              "  </tbody>\n",
              "</table>\n",
              "</div>"
            ],
            "text/plain": [
              "   Store  Dept       Date  Weekly_Sales  ...  Unemployment  Type    Size  month\n",
              "0      1     1 2010-05-02      24924.50  ...           0.0     A  151315      5\n",
              "1      1     1 2010-12-02      46039.49  ...           0.0     A  151315     12\n",
              "\n",
              "[2 rows x 17 columns]"
            ]
          },
          "metadata": {
            "tags": []
          },
          "execution_count": 47
        }
      ]
    },
    {
      "cell_type": "code",
      "metadata": {
        "colab": {
          "base_uri": "https://localhost:8080/",
          "height": 307
        },
        "id": "rDRgCz6jRyf8",
        "outputId": "e6bdf08a-9278-4ff5-f414-54baca49ea3a"
      },
      "source": [
        "# Month wise Weekly Sales visualization\r\n",
        "df_m = pd.concat([final_walmart_df['month'], final_walmart_df['Weekly_Sales'], final_walmart_df['IsHoliday']], axis=1)\r\n",
        "plt.figure(figsize = (20,6))\r\n",
        "\r\n",
        "plt.title('Box Plot of Weekly Sales by Month and Holiday')\r\n",
        "fig = sns.boxplot(x = 'month', y = 'Weekly_Sales', data = df_m, showfliers = False, hue = 'IsHoliday')"
      ],
      "execution_count": 49,
      "outputs": [
        {
          "output_type": "display_data",
          "data": {
            "image/png": "[encoded data removed]",
            "text/plain": [
              "<Figure size 1440x432 with 1 Axes>"
            ]
          },
          "metadata": {
            "tags": []
          }
        }
      ]
    },
    {
      "cell_type": "code",
      "metadata": {
        "colab": {
          "base_uri": "https://localhost:8080/",
          "height": 405
        },
        "id": "30MLeNRoW1J4",
        "outputId": "f3c52ebc-3e10-4e30-9d2c-5fa3f1bc759b"
      },
      "source": [
        "# Below plot is general idea of how the Weekly Sales has been so far\r\n",
        "\r\n",
        "final_walmart_df.index = final_walmart_df.Date\r\n",
        "final_walmart_df = final_walmart_df.drop('Date', axis=1)\r\n",
        "final_walmart_df = final_walmart_df.resample('MS').mean()\r\n",
        "\r\n",
        "train_dt = final_walmart_df['Weekly_Sales']\r\n",
        "# Plot of Weekly_Sales with respect to years in train\r\n",
        "\r\n",
        "train_dt.plot(figsize = (20,8), title = 'Weekly_Sales', fontsize = 14)\r\n",
        "plt.show()"
      ],
      "execution_count": 53,
      "outputs": [
        {
          "output_type": "display_data",
          "data": {
            "image/png": "[encoded data removed]",
            "text/plain": [
              "<Figure size 1440x576 with 1 Axes>"
            ]
          },
          "metadata": {
            "tags": []
          }
        }
      ]
    },
    {
      "cell_type": "code",
      "metadata": {
        "colab": {
          "base_uri": "https://localhost:8080/"
        },
        "id": "osou-lM5d0bf",
        "outputId": "c5a84e84-6def-4dc9-f2ad-360faeca6331"
      },
      "source": [
        "!wget -nc https://raw.githubusercontent.com/brpy/colab-pdf/master/colab_pdf.py\r\n",
        "from colab_pdf import colab_pdf"
      ],
      "execution_count": 54,
      "outputs": [
        {
          "output_type": "stream",
          "text": [
            "--2021-03-07 11:34:53--  https://raw.githubusercontent.com/brpy/colab-pdf/master/colab_pdf.py\n",
            "Resolving raw.githubusercontent.com (raw.githubusercontent.com)... 185.199.108.133, 185.199.109.133, 185.199.110.133, ...\n",
            "Connecting to raw.githubusercontent.com (raw.githubusercontent.com)|185.199.108.133|:443... connected.\n",
            "HTTP request sent, awaiting response... 200 OK\n",
            "Length: 1864 (1.8K) [text/plain]\n",
            "Saving to: ‘colab_pdf.py’\n",
            "\n",
            "\rcolab_pdf.py          0%[                    ]       0  --.-KB/s               \rcolab_pdf.py        100%[===================>]   1.82K  --.-KB/s    in 0s      \n",
            "\n",
            "2021-03-07 11:34:53 (29.9 MB/s) - ‘colab_pdf.py’ saved [1864/1864]\n",
            "\n"
          ],
          "name": "stdout"
        }
      ]
    },
    {
      "cell_type": "code",
      "metadata": {
        "colab": {
          "base_uri": "https://localhost:8080/",
          "height": 339
        },
        "id": "NhdmXCtIeD1F",
        "outputId": "0e037ff4-68a1-4fcb-fef2-3b641e4198fb"
      },
      "source": [
        "colab_pdf('/content/drive/MyDrive/Colab Notebooks/BDA_Technical_Project_Data_Visualization_Kowsik_B.ipynb')"
      ],
      "execution_count": 55,
      "outputs": [
        {
          "output_type": "stream",
          "text": [
            "Mounted at /content/drive/\n"
          ],
          "name": "stdout"
        },
        {
          "output_type": "error",
          "ename": "ValueError",
          "evalue": "ignored",
          "traceback": [
            "\u001b[0;31m---------------------------------------------------------------------------\u001b[0m",
            "\u001b[0;31mValueError\u001b[0m                                Traceback (most recent call last)",
            "\u001b[0;32m<ipython-input-55-9c598fb2c79e>\u001b[0m in \u001b[0;36m<module>\u001b[0;34m()\u001b[0m\n\u001b[0;32m----> 1\u001b[0;31m \u001b[0mcolab_pdf\u001b[0m\u001b[0;34m(\u001b[0m\u001b[0;34m'/content/drive/MyDrive/Colab Notebooks/BDA_Technical_Project_Data_Visualization_Kowsik_B.ipynb'\u001b[0m\u001b[0;34m)\u001b[0m\u001b[0;34m\u001b[0m\u001b[0;34m\u001b[0m\u001b[0m\n\u001b[0m",
            "\u001b[0;32m/content/colab_pdf.py\u001b[0m in \u001b[0;36mcolab_pdf\u001b[0;34m(file_name, notebookpath)\u001b[0m\n\u001b[1;32m     20\u001b[0m     \u001b[0;31m# Check if the notebook exists in the Drive.\u001b[0m\u001b[0;34m\u001b[0m\u001b[0;34m\u001b[0m\u001b[0;34m\u001b[0m\u001b[0m\n\u001b[1;32m     21\u001b[0m     \u001b[0;32mif\u001b[0m \u001b[0;32mnot\u001b[0m \u001b[0mos\u001b[0m\u001b[0;34m.\u001b[0m\u001b[0mpath\u001b[0m\u001b[0;34m.\u001b[0m\u001b[0misfile\u001b[0m\u001b[0;34m(\u001b[0m\u001b[0mos\u001b[0m\u001b[0;34m.\u001b[0m\u001b[0mpath\u001b[0m\u001b[0;34m.\u001b[0m\u001b[0mjoin\u001b[0m\u001b[0;34m(\u001b[0m\u001b[0mnotebookpath\u001b[0m\u001b[0;34m,\u001b[0m \u001b[0mfile_name\u001b[0m\u001b[0;34m)\u001b[0m\u001b[0;34m)\u001b[0m\u001b[0;34m:\u001b[0m\u001b[0;34m\u001b[0m\u001b[0;34m\u001b[0m\u001b[0m\n\u001b[0;32m---> 22\u001b[0;31m         \u001b[0;32mraise\u001b[0m \u001b[0mValueError\u001b[0m\u001b[0;34m(\u001b[0m\u001b[0;34mf\"file '{file_name}' not found in path '{notebookpath}'.\"\u001b[0m\u001b[0;34m)\u001b[0m\u001b[0;34m\u001b[0m\u001b[0;34m\u001b[0m\u001b[0m\n\u001b[0m\u001b[1;32m     23\u001b[0m \u001b[0;34m\u001b[0m\u001b[0m\n\u001b[1;32m     24\u001b[0m     \u001b[0;31m# Installing all the recommended packages.\u001b[0m\u001b[0;34m\u001b[0m\u001b[0;34m\u001b[0m\u001b[0;34m\u001b[0m\u001b[0m\n",
            "\u001b[0;31mValueError\u001b[0m: file '/content/drive/MyDrive/Colab Notebooks/BDA_Technical_Project_Data_Visualization_Kowsik_B.ipynb' not found in path '/content/drive/My Drive/Colab Notebooks/'."
          ]
        }
      ]
    }
  ]
}